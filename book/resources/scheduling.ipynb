{
 "cells": [
  {
   "cell_type": "markdown",
   "metadata": {},
   "source": [
    "# Scheduling\n",
    "\n",
    "To be fair for scheduling, I will use the script below.\n",
    "It uses a CSV-like text that puts students into their preferred slots if available."
   ]
  },
  {
   "cell_type": "code",
   "execution_count": 11,
   "metadata": {},
   "outputs": [
    {
     "name": "stdout",
     "output_type": "stream",
     "text": [
      "Day 1: ['student17', 'student4', 'student5', 'student6']\n",
      "Day 2: ['student20', 'student15', 'student2', 'student7']\n",
      "Day 3: ['student14', 'student16', 'student18', 'student19']\n",
      "Day 4: ['student3', 'student8', 'student13', 'student12']\n",
      "Day 5: ['student10', 'student9', 'student1', 'student11']\n",
      "Day 6: ['student21']\n"
     ]
    }
   ],
   "source": [
    "import random\n",
    "\n",
    "# List of available presentation days\n",
    "days = [1, 2, 3, 4, 5, 6]\n",
    "slots_per_day = [4, 4, 4, 4, 4, 1]\n",
    "\n",
    "# A CSV file where the first column is a student label, and then a\n",
    "# comma-separated ranking of dates.\n",
    "csv_file = r\"\"\"\n",
    "student1,5,3,2,6,1,4\n",
    "student2,6,2,5,3,4,1\n",
    "student3,4,2,1,3,6,5\n",
    "student4,6,1,4,2,3,5\n",
    "student5,4,5,1,3,6,2\n",
    "student6,6,5,3,4,2,1\n",
    "student7,2,5,6,1,3,4\n",
    "student8,4,6,2,5,1,3\n",
    "student9,4,6,5,2,3,1\n",
    "student10,5,4,2,3,1,6\n",
    "student11,6,4,5,1,3,2\n",
    "student12,4,6,5,3,1,2\n",
    "student13,6,4,2,3,5,1\n",
    "student14,3,4,1,5,2,6\n",
    "student15,2,6,4,1,5,3\n",
    "student16,6,3,2,4,5,1\n",
    "student17,1,4,5,3,6,2\n",
    "student18,6,3,1,4,2,5\n",
    "student19,2,3,6,1,4,5\n",
    "student20,6,2,5,4,3,1\n",
    "student21,6,2,4,3,1,5\n",
    "\"\"\"\n",
    "\n",
    "students = []\n",
    "for line in csv_file.splitlines():\n",
    "    split_line = line.split(\",\")\n",
    "    if len(split_line) > 1:  # skips blank lines\n",
    "        students.append(\n",
    "            {\"name\": split_line[0], \"preferences\": [int(i) for i in split_line[1:]]}\n",
    "        )\n",
    "\n",
    "# Dictionary to store the schedule\n",
    "schedule = {\n",
    "    day: {\"slots\": [], \"max\": max_per_day}\n",
    "    for day, max_per_day in zip(days, slots_per_day)\n",
    "}\n",
    "\n",
    "# Shuffle the order of students for fairness\n",
    "for _ in range(100):\n",
    "    random.shuffle(students)\n",
    "\n",
    "# Put all students in their first choice, or the next available choice\n",
    "for student in students:\n",
    "    for preference in student[\"preferences\"]:\n",
    "        if len(schedule[preference][\"slots\"]) < schedule[preference][\"max\"]:\n",
    "            schedule[preference][\"slots\"].append(student[\"name\"])\n",
    "            break\n",
    "\n",
    "# Print the schedule\n",
    "for day, info in schedule.items():\n",
    "    print(f\"Day {day}: {info['slots']}\")\n"
   ]
  }
 ],
 "metadata": {
  "kernelspec": {
   "display_name": "biosc1630-2023-fall",
   "language": "python",
   "name": "python3"
  },
  "language_info": {
   "codemirror_mode": {
    "name": "ipython",
    "version": 3
   },
   "file_extension": ".py",
   "mimetype": "text/x-python",
   "name": "python",
   "nbconvert_exporter": "python",
   "pygments_lexer": "ipython3",
   "version": "3.11.5"
  },
  "orig_nbformat": 4
 },
 "nbformat": 4,
 "nbformat_minor": 2
}
